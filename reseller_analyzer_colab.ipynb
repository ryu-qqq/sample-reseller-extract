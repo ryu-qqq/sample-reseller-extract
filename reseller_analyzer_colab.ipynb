{
 "nbformat": 4,
 "nbformat_minor": 0,
 "metadata": {
  "colab": {
   "name": "리셀러 자동 판단 시스템.ipynb",
   "provenance": []
  },
  "kernelspec": {
   "name": "python3",
   "display_name": "Python 3"
  }
 },
 "cells": [
  {
   "cell_type": "markdown",
   "metadata": {},
   "source": "# 🎯 리셀러 자동 판단 시스템\n\n## 📌 Google Colab에서 실행하세요!\n\n**⚠️ 중요**: 이 노트북은 Google Colab에서만 작동합니다!\n- 현재 링크: https://colab.research.google.com/github/ryu-qqq/sample-reseller-extract/blob/main/reseller_analyzer_colab.ipynb\n\n## 🚀 사용법 (3단계)\n1. **런타임 연결**: 상단의 \"연결\" 버튼 클릭 (또는 자동 연결 대기)\n2. **전체 실행**: `런타임` → `모두 실행` (또는 Ctrl+F9)\n3. **파일 업로드**: 첫 번째 셀에서 파일 선택 버튼 클릭\n\n---\n\n**💡 팁**: 각 셀을 개별 실행하려면 셀 왼쪽의 ▶️ 버튼을 클릭하세요!"
  },
  {
   "cell_type": "code",
   "metadata": {},
   "source": "# 1️⃣ 첫 번째: 파일 업로드 (▶️ 클릭 후 파일 선택)\nimport pandas as pd\nimport numpy as np\nfrom datetime import datetime\n\ntry:\n    from google.colab import files\n    print(\"📁 엑셀 파일을 업로드하세요!\")\n    print(\"   파일명: erp_order_form.xlsx\")\n    print(\"   👇 아래 '파일 선택' 버튼을 클릭하세요!\")\n    print(\"-\" * 50)\n\n    uploaded = files.upload()\n\n    if 'erp_order_form.xlsx' in uploaded:\n        print(\"\\n✅ 파일 업로드 성공!\")\n        print(f\"   파일 크기: {len(uploaded['erp_order_form.xlsx']):,} bytes\")\n    else:\n        print(\"\\n❌ 파일명을 확인하세요: erp_order_form.xlsx\")\n        if uploaded:\n            print(\"   업로드된 파일:\", list(uploaded.keys()))\nexcept ImportError:\n    print(\"⚠️ Google Colab 환경이 아닙니다!\")\n    print(\"💡 이 노트북은 Google Colab에서만 작동합니다.\")\n    print(\"   링크: https://colab.research.google.com/\")\nexcept Exception as e:\n    print(f\"⚠️ 파일 업로드 중 오류: {e}\")\n    print(\"\\n💡 해결방법:\")\n    print(\"   1. Google Colab인지 확인하세요\")\n    print(\"   2. 브라우저 팝업 차단을 해제하세요\")\n    print(\"   3. 런타임 → 런타임 다시 시작 후 재실행\")",
   "execution_count": null,
   "outputs": []
  },
  {
   "cell_type": "code",
   "source": "# 🔍 디버깅: 현재 파일 목록 확인\nimport os\n\nprint(\"📂 현재 디렉토리의 파일들:\")\nprint(\"-\" * 30)\n\nfiles = os.listdir('.')\nxlsx_files = [f for f in files if f.endswith('.xlsx')]\nother_files = [f for f in files if not f.endswith('.xlsx')]\n\nif xlsx_files:\n    print(\"📊 엑셀 파일:\")\n    for f in xlsx_files:\n        size = os.path.getsize(f)\n        print(f\"   ✓ {f} ({size:,} bytes)\")\nelse:\n    print(\"❌ 엑셀 파일이 없습니다!\")\n\nif other_files and len(other_files) < 20:  # 너무 많으면 일부만 표시\n    print(\"\\n📁 기타 파일:\")\n    for f in other_files[:10]:\n        print(f\"   • {f}\")\n\nprint(\"\\n\" + \"=\" * 50)\nif 'erp_order_form.xlsx' in files:\n    print(\"✅ erp_order_form.xlsx 파일이 있습니다!\")\n    print(\"   👉 다음 셀을 실행하세요!\")\nelse:\n    print(\"⚠️ erp_order_form.xlsx 파일을 업로드해주세요!\")\n    print(\"   방법: 왼쪽 사이드바 📁 → ⬆️ 업로드\")",
   "metadata": {},
   "execution_count": null,
   "outputs": []
  },
  {
   "cell_type": "code",
   "source": "# 1️⃣ 파일 업로드 (두 가지 방법 중 선택)\nimport pandas as pd\nimport numpy as np\nfrom datetime import datetime\nimport os\n\nprint(\"📁 파일 업로드 방법을 선택하세요:\\n\")\nprint(\"방법 1: 아래 '파일 선택' 버튼 클릭\")\nprint(\"방법 2: 왼쪽 사이드바 📁 → ⬆️ 업로드\\n\")\n\n# 방법 1: 자동 업로드\ntry:\n    from google.colab import files\n    \n    # 먼저 이미 업로드된 파일이 있는지 확인\n    if os.path.exists('erp_order_form.xlsx'):\n        print(\"✅ 파일이 이미 업로드되어 있습니다!\")\n        print(\"   다음 셀을 실행하세요 (2️⃣ 데이터 읽기)\")\n    else:\n        print(\"-\" * 50)\n        print(\"👇 아래 버튼을 클릭하여 파일을 선택하세요:\")\n        uploaded = files.upload()\n        \n        if uploaded:\n            print(\"\\n✅ 파일 업로드 성공!\")\n            for filename in uploaded.keys():\n                print(f\"   업로드된 파일: {filename}\")\n                print(f\"   파일 크기: {len(uploaded[filename]):,} bytes\")\n        else:\n            print(\"⚠️ 파일이 업로드되지 않았습니다.\")\n            \nexcept ImportError:\n    print(\"⚠️ Google Colab 환경이 아닙니다!\")\nexcept Exception as e:\n    # 사이드바로 업로드한 경우 확인\n    if os.path.exists('erp_order_form.xlsx'):\n        print(\"✅ 사이드바를 통해 파일이 업로드되었습니다!\")\n        print(\"   다음 셀을 실행하세요 (2️⃣ 데이터 읽기)\")\n    else:\n        print(f\"⚠️ 오류 발생: {e}\")\n        print(\"\\n💡 사이드바에서 직접 업로드하세요:\")\n        print(\"   1. 왼쪽 📁 폴더 아이콘 클릭\")\n        print(\"   2. ⬆️ 업로드 버튼 클릭\")\n        print(\"   3. erp_order_form.xlsx 선택\")\n\n# 파일 존재 여부 최종 확인\nprint(\"\\n\" + \"=\" * 50)\nif os.path.exists('erp_order_form.xlsx'):\n    print(\"✅ 파일 준비 완료! 다음 셀을 실행하세요!\")\nelse:\n    print(\"⚠️ 파일을 업로드해주세요: erp_order_form.xlsx\")",
   "metadata": {},
   "execution_count": null,
   "outputs": []
  },
  {
   "cell_type": "code",
   "metadata": {},
   "source": "# 2️⃣ 두 번째: 데이터 읽기 (▶️ 클릭)\nimport os\nimport pandas as pd\nimport numpy as np\nfrom datetime import datetime\n\n# 파일 존재 확인\nif not os.path.exists('erp_order_form.xlsx'):\n    print(\"❌ 파일이 없습니다! 먼저 파일을 업로드하세요.\")\n    print(\"   위의 1️⃣ 셀을 실행하여 파일을 업로드하세요.\")\nelse:\n    try:\n        # 오전/오후 시트 통합\n        print(\"📖 엑셀 파일 읽는 중...\")\n        df_morning = pd.read_excel('erp_order_form.xlsx', sheet_name='오전')\n        df_afternoon = pd.read_excel('erp_order_form.xlsx', sheet_name='오후')\n        \n        # 전역 변수로 저장 (다른 셀에서 사용하기 위해)\n        global df\n        df = pd.concat([df_morning, df_afternoon], ignore_index=True)\n        \n        print(\"✅ 데이터 읽기 완료!\")\n        print(\"=\" * 50)\n        print(f\"📊 총 {len(df):,}건의 주문 데이터\")\n        print(f\"👥 고객 수: {df['주문자명'].nunique():,}명\")\n        print(f\"📅 기간: {df['주문일자'].min()} ~ {df['주문일자'].max()}\")\n        print(\"=\" * 50)\n        \n        # 데이터 샘플 보여주기\n        print(\"\\n📋 데이터 샘플 (처음 3행):\")\n        print(df.head(3))\n        \n        print(\"\\n✅ 다음 셀을 실행하여 리셀러 분석을 시작하세요!\")\n        \n    except Exception as e:\n        print(f\"❌ 에러 발생: {e}\")\n        print(\"\\n💡 확인사항:\")\n        print(\"   1. 파일명이 'erp_order_form.xlsx'인지 확인\")\n        print(\"   2. 시트명이 '오전', '오후'인지 확인\")\n        print(\"   3. 필수 컬럼이 있는지 확인:\")\n        print(\"      - 주문자명, 주문수량, 총매출액, 주문일자, 상품명, 주소\")",
   "execution_count": null,
   "outputs": []
  },
  {
   "cell_type": "code",
   "metadata": {},
   "source": "# 3️⃣ 세 번째: 리셀러 분석 (▶️ 클릭)\n\n# df 변수 확인\ntry:\n    df\n    print(f\"✅ 데이터 로드 확인: {len(df)}개 레코드\")\nexcept NameError:\n    print(\"❌ 데이터가 로드되지 않았습니다!\")\n    print(\"   👆 위의 '2️⃣ 데이터 읽기' 셀을 먼저 실행하세요!\")\n    raise\n\ndef detect_business_address(address):\n    if pd.isna(address):\n        return 0\n    address_str = str(address)\n    business_keywords = ['사무실', '오피스', '빌딩', '타워', '센터', '상가', '층',\n                        '호실', '공장', '창고', '물류', '유통', '산업']\n    for keyword in business_keywords:\n        if keyword in address_str:\n            return 1\n    return 0\n\ndef analyze_reseller_patterns(df):\n    df['주문일자'] = pd.to_datetime(df['주문일자'], errors='coerce')\n    \n    analysis = df.groupby('주문자명').agg({\n        '주문수량': ['sum', 'mean', 'std'],\n        '총매출액': 'sum',\n        '주문번호(쇼핑몰)': 'count',\n        '상품명': ['nunique', lambda x: ', '.join(x.value_counts().head(3).index)],\n        '주소': lambda x: x.mode()[0] if len(x) > 0 else '',\n        '주문일자': ['min', 'max', lambda x: (x.max() - x.min()).days if len(x) > 1 else 0]\n    }).round(2)\n    \n    analysis.columns = ['총구매수량', '평균구매수량', '수량편차', '총매출액', '주문횟수',\n                        '구매제품종류', '주력상품TOP3', '대표주소',\n                        '첫구매일', '최근구매일', '활동기간(일)']\n    \n    analysis['사업장주소'] = analysis['대표주소'].apply(detect_business_address)\n    analysis['평균구매주기'] = (analysis['활동기간(일)'] / analysis['주문횟수']).replace([float('inf'), -float('inf')], 0).round(1)\n    \n    return analysis\n\ndef calculate_reseller_score(stats):\n    scores = pd.DataFrame(index=stats.index)\n    \n    scores['대량구매'] = stats['평균구매수량'].apply(\n        lambda x: 30 if x >= 5 else 20 if x >= 3 else 10 if x >= 2 else 0\n    )\n    scores['정기구매'] = stats.apply(\n        lambda x: 25 if (x['주문횟수'] >= 5 and x['활동기간(일)'] >= 30) else\n                  15 if (x['주문횟수'] >= 3 and x['활동기간(일)'] >= 14) else\n                  5 if x['주문횟수'] >= 2 else 0,\n        axis=1\n    )\n    scores['사업장'] = stats['사업장주소'] * 20\n    scores['다양성'] = stats['구매제품종류'].apply(\n        lambda x: 15 if x >= 5 else 10 if x >= 3 else 5 if x >= 2 else 0\n    )\n    scores['구매규모'] = stats['총매출액'].apply(\n        lambda x: 10 if x >= 200000 else 7 if x >= 100000 else 3 if x >= 50000 else 0\n    )\n    \n    scores['리셀러점수'] = scores.sum(axis=1)\n    scores['판정'] = scores['리셀러점수'].apply(\n        lambda x: '🔴 확실한 리셀러' if x >= 70 else\n                  '🟠 리셀러 가능성 높음' if x >= 50 else\n                  '🟡 잠재 리셀러' if x >= 30 else\n                  '🟢 일반 고객'\n    )\n    scores['등급'] = scores['리셀러점수'].apply(\n        lambda x: 'A' if x >= 70 else 'B' if x >= 50 else 'C' if x >= 30 else 'D'\n    )\n    \n    final = pd.concat([stats, scores], axis=1)\n    return final\n\n# 분석 실행\nprint(\"🔍 리셀러 분석 중...\")\nprint(\"-\" * 50)\n\ncustomer_analysis = analyze_reseller_patterns(df)\nfinal_results = calculate_reseller_score(customer_analysis)\n\n# 결과를 전역 변수로 저장\nglobal final_results_global\nfinal_results_global = final_results\n\n# 통계\ntotal = len(final_results)\na_grade = len(final_results[final_results['등급'] == 'A'])\nb_grade = len(final_results[final_results['등급'] == 'B'])\nc_grade = len(final_results[final_results['등급'] == 'C'])\nd_grade = total - a_grade - b_grade - c_grade\n\nprint(\"\\n✅ 분석 완료!\")\nprint(\"=\" * 50)\nprint(f\"📊 리셀러 분포:\")\nprint(f\"🔴 A등급 (확실한 리셀러): {a_grade}명\")\nprint(f\"🟠 B등급 (가능성 높음): {b_grade}명\")\nprint(f\"🟡 C등급 (잠재 리셀러): {c_grade}명\")\nprint(f\"🟢 D등급 (일반 고객): {d_grade}명\")\nprint(\"=\" * 50)\nprint(\"\\n👉 다음 셀을 실행하여 상위 리셀러를 확인하세요!\")",
   "execution_count": null,
   "outputs": []
  },
  {
   "cell_type": "code",
   "metadata": {},
   "source": "# 4️⃣ 네 번째: 상위 리셀러 보기 (▶️ 클릭)\n\n# final_results 변수 확인\ntry:\n    # 전역 변수 사용 시도\n    try:\n        final_results = final_results_global\n    except:\n        final_results = final_results\n    \n    print(\"🔥 상위 리셀러 후보 TOP 10\")\n    print(\"=\" * 60)\n\n    top_resellers = final_results.nlargest(10, '리셀러점수')\n\n    for rank, (idx, row) in enumerate(top_resellers.iterrows(), 1):\n        print(f\"\\n{rank}위. {idx}\")\n        print(f\"   📊 등급: {row['판정']}\")\n        print(f\"   🎯 점수: {row['리셀러점수']:.0f}점\")\n        print(f\"   💰 매출: {row['총매출액']:,.0f}원\")\n        print(f\"   📦 주문: {row['주문횟수']}회, 평균 {row['평균구매수량']:.1f}개\")\n        print(f\"   📍 주소: {row['대표주소'][:30]}...\" if len(str(row['대표주소'])) > 30 else f\"   📍 주소: {row['대표주소']}\")\n        \n    print(\"\\n\" + \"=\" * 60)\n    print(\"✅ 다음 셀을 실행하여 엑셀 파일을 다운로드하세요!\")\n    \nexcept NameError:\n    print(\"❌ 분석 결과가 없습니다!\")\n    print(\"   👆 위의 '3️⃣ 리셀러 분석' 셀을 먼저 실행하세요!\")",
   "execution_count": null,
   "outputs": []
  },
  {
   "cell_type": "code",
   "metadata": {},
   "source": "# 5️⃣ 다섯 번째: 엑셀 다운로드 (▶️ 클릭)\n\ntry:\n    # 전역 변수 확인\n    try:\n        final_results = final_results_global\n    except:\n        final_results = final_results\n\n    # 엑셀 파일 생성\n    print(\"📝 엑셀 파일 생성 중...\")\n    \n    export_data = final_results.sort_values('리셀러점수', ascending=False)\n    export_columns = [\n        '등급', '판정', '리셀러점수',\n        '총구매수량', '평균구매수량', '주문횟수',\n        '총매출액', '구매제품종류',\n        '사업장주소', '활동기간(일)', '평균구매주기',\n        '주력상품TOP3'\n    ]\n\n    # 엑셀 저장\n    output_filename = '리셀러_분석_결과.xlsx'\n    export_data[export_columns].to_excel(output_filename)\n\n    print(f\"✅ 엑셀 파일 생성 완료: {output_filename}\")\n    print(\"-\" * 50)\n\n    # 다운로드\n    try:\n        from google.colab import files\n        print(\"📥 파일 다운로드 중...\")\n        files.download(output_filename)\n        print(\"\\n✅ 다운로드가 시작되었습니다!\")\n        print(\"   브라우저의 다운로드 폴더를 확인하세요.\")\n    except ImportError:\n        print(\"⚠️ Google Colab 환경이 아닙니다.\")\n        print(f\"   파일이 현재 디렉토리에 저장되었습니다: {output_filename}\")\n    except Exception as e:\n        print(f\"⚠️ 다운로드 중 오류: {e}\")\n        print(f\"   파일은 생성되었습니다: {output_filename}\")\n        print(\"   왼쪽 사이드바 📁에서 파일을 직접 다운로드하세요.\")\n        \n    print(\"\\n\" + \"=\" * 50)\n    print(\"🎉 모든 분석이 완료되었습니다!\")\n    \nexcept NameError:\n    print(\"❌ 분석 결과가 없습니다!\")\n    print(\"   위의 셀들을 순서대로 실행하세요:\")\n    print(\"   1️⃣ 파일 업로드 → 2️⃣ 데이터 읽기 → 3️⃣ 리셀러 분석\")\nexcept Exception as e:\n    print(f\"❌ 오류 발생: {e}\")\n    print(\"   위의 셀들을 다시 실행해보세요.\")",
   "execution_count": null,
   "outputs": []
  }
 ]
}